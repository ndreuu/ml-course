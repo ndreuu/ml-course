{
  "cells": [
    {
      "cell_type": "markdown",
      "metadata": {
        "id": "j3rg8JUKpyHv"
      },
      "source": [
        "# Задача 4. Ансамбли\n",
        "\n",
        "- Найти данные размера хотя бы 10000, на которых можно решить задачу классификации или регрессии.\n",
        "- Выполнить разведочный анализ (**EDA**). При необходимости выполнить полезные преобразования данных.\n",
        "- Самостоятельно реализуйте алгоритмы **Bagging** и **AdaBoost**, которые позволят обучить ансамбли каких-то простых моделей, например деревьев принятия решений.\n",
        "- Обучите ансамбли для каких-то простых моделей, используя свои две реализации, а также реализации из **sklearn** (**Bagging**, **Random Forest**, **AdaBoost**, **Gradient Tree Boosting**, **Histogram-Based Gradient Boosting**).\n",
        "- При обучении использовать **подбор гиперпараметров**, **кросс-валидацию**.\n",
        "- Сравнить качество моделей: замерить скорость обучения, вычислить различные метрики качества, построить матрицы ошибок.\n",
        "- (**+2 балла**) Также добавить в сравнение модели из библиотек **XGBoost**, **LightGBM** и **CatBoost**.\n",
        "- (**+3 балла**) Для подбора гиперпараметров использовать фреймворк **Optuna**."
      ]
    },
    {
      "cell_type": "code",
      "execution_count": 239,
      "metadata": {
        "id": "acJo2Sy2pyHw"
      },
      "outputs": [],
      "source": [
        "import numpy as np\n",
        "import pandas as pd\n",
        "import matplotlib.pyplot as plt\n",
        "\n",
        "%matplotlib inline\n",
        "\n",
        "import seaborn as sns\n",
        "import pathlib\n",
        "from sklearn.preprocessing import LabelEncoder\n",
        "\n",
        "%precision % .4f\n",
        "\n",
        "import warnings\n",
        "\n",
        "warnings.filterwarnings('ignore')  \n",
        "dataset_path = \"/content/dataset/fipe_2022.csv\""
      ]
    },
    {
      "cell_type": "markdown",
      "metadata": {
        "id": "oMlXhnlypyHx"
      },
      "source": [
        "# Датасет\n",
        "Используется [датасет](https://www.kaggle.com/datasets/vagnerbessa/average-car-prices-bazil), демонстрирующий средние цены на автомобили, проданные в Бразилии за последние 2 года (янв 2021 - янв 2023).\n",
        "\n",
        "Решается задача регрессии: определение цены машины"
      ]
    },
    {
      "cell_type": "code",
      "execution_count": 240,
      "metadata": {
        "id": "PMAxmyIBpyHy"
      },
      "outputs": [],
      "source": [
        "df = pd.read_csv(dataset_path, nrows=10000)"
      ]
    },
    {
      "cell_type": "markdown",
      "metadata": {
        "id": "Ix4NV-nvpyHy"
      },
      "source": [
        "# 0. Preparing data"
      ]
    },
    {
      "cell_type": "code",
      "execution_count": 241,
      "metadata": {
        "colab": {
          "base_uri": "https://localhost:8080/",
          "height": 357
        },
        "id": "JRnleeh8pyHz",
        "outputId": "6cfabd26-9ce4-4642-f837-b48722fbb0e1"
      },
      "outputs": [
        {
          "output_type": "execute_result",
          "data": {
            "text/plain": [
              "   year_of_reference month_of_reference fipe_code authentication  brand  \\\n",
              "0               2022            January  038001-6     vwmrywl5qs  Acura   \n",
              "1               2022            January  038001-6     t9mt723qhz  Acura   \n",
              "2               2022            January  038001-6     tr5wv4z21g  Acura   \n",
              "3               2022            January  038001-6     s2xxsjz3mt  Acura   \n",
              "4               2022            January  038001-6     rtm9gj7zk8  Acura   \n",
              "\n",
              "     model      fuel    gear  engine_size  year_model  avg_price_brl  \\\n",
              "0  NSX 3.0  Gasoline  manual          3.0        1995        43779.0   \n",
              "1  NSX 3.0  Gasoline  manual          3.0        1994        42244.0   \n",
              "2  NSX 3.0  Gasoline  manual          3.0        1993        40841.0   \n",
              "3  NSX 3.0  Gasoline  manual          3.0        1992        39028.0   \n",
              "4  NSX 3.0  Gasoline  manual          3.0        1991        35678.0   \n",
              "\n",
              "   age_years  \n",
              "0         28  \n",
              "1         29  \n",
              "2         30  \n",
              "3         31  \n",
              "4         32  "
            ],
            "text/html": [
              "\n",
              "  <div id=\"df-df9aa5a6-554f-4f8e-bbf9-3f5010520856\">\n",
              "    <div class=\"colab-df-container\">\n",
              "      <div>\n",
              "<style scoped>\n",
              "    .dataframe tbody tr th:only-of-type {\n",
              "        vertical-align: middle;\n",
              "    }\n",
              "\n",
              "    .dataframe tbody tr th {\n",
              "        vertical-align: top;\n",
              "    }\n",
              "\n",
              "    .dataframe thead th {\n",
              "        text-align: right;\n",
              "    }\n",
              "</style>\n",
              "<table border=\"1\" class=\"dataframe\">\n",
              "  <thead>\n",
              "    <tr style=\"text-align: right;\">\n",
              "      <th></th>\n",
              "      <th>year_of_reference</th>\n",
              "      <th>month_of_reference</th>\n",
              "      <th>fipe_code</th>\n",
              "      <th>authentication</th>\n",
              "      <th>brand</th>\n",
              "      <th>model</th>\n",
              "      <th>fuel</th>\n",
              "      <th>gear</th>\n",
              "      <th>engine_size</th>\n",
              "      <th>year_model</th>\n",
              "      <th>avg_price_brl</th>\n",
              "      <th>age_years</th>\n",
              "    </tr>\n",
              "  </thead>\n",
              "  <tbody>\n",
              "    <tr>\n",
              "      <th>0</th>\n",
              "      <td>2022</td>\n",
              "      <td>January</td>\n",
              "      <td>038001-6</td>\n",
              "      <td>vwmrywl5qs</td>\n",
              "      <td>Acura</td>\n",
              "      <td>NSX 3.0</td>\n",
              "      <td>Gasoline</td>\n",
              "      <td>manual</td>\n",
              "      <td>3.0</td>\n",
              "      <td>1995</td>\n",
              "      <td>43779.0</td>\n",
              "      <td>28</td>\n",
              "    </tr>\n",
              "    <tr>\n",
              "      <th>1</th>\n",
              "      <td>2022</td>\n",
              "      <td>January</td>\n",
              "      <td>038001-6</td>\n",
              "      <td>t9mt723qhz</td>\n",
              "      <td>Acura</td>\n",
              "      <td>NSX 3.0</td>\n",
              "      <td>Gasoline</td>\n",
              "      <td>manual</td>\n",
              "      <td>3.0</td>\n",
              "      <td>1994</td>\n",
              "      <td>42244.0</td>\n",
              "      <td>29</td>\n",
              "    </tr>\n",
              "    <tr>\n",
              "      <th>2</th>\n",
              "      <td>2022</td>\n",
              "      <td>January</td>\n",
              "      <td>038001-6</td>\n",
              "      <td>tr5wv4z21g</td>\n",
              "      <td>Acura</td>\n",
              "      <td>NSX 3.0</td>\n",
              "      <td>Gasoline</td>\n",
              "      <td>manual</td>\n",
              "      <td>3.0</td>\n",
              "      <td>1993</td>\n",
              "      <td>40841.0</td>\n",
              "      <td>30</td>\n",
              "    </tr>\n",
              "    <tr>\n",
              "      <th>3</th>\n",
              "      <td>2022</td>\n",
              "      <td>January</td>\n",
              "      <td>038001-6</td>\n",
              "      <td>s2xxsjz3mt</td>\n",
              "      <td>Acura</td>\n",
              "      <td>NSX 3.0</td>\n",
              "      <td>Gasoline</td>\n",
              "      <td>manual</td>\n",
              "      <td>3.0</td>\n",
              "      <td>1992</td>\n",
              "      <td>39028.0</td>\n",
              "      <td>31</td>\n",
              "    </tr>\n",
              "    <tr>\n",
              "      <th>4</th>\n",
              "      <td>2022</td>\n",
              "      <td>January</td>\n",
              "      <td>038001-6</td>\n",
              "      <td>rtm9gj7zk8</td>\n",
              "      <td>Acura</td>\n",
              "      <td>NSX 3.0</td>\n",
              "      <td>Gasoline</td>\n",
              "      <td>manual</td>\n",
              "      <td>3.0</td>\n",
              "      <td>1991</td>\n",
              "      <td>35678.0</td>\n",
              "      <td>32</td>\n",
              "    </tr>\n",
              "  </tbody>\n",
              "</table>\n",
              "</div>\n",
              "      <button class=\"colab-df-convert\" onclick=\"convertToInteractive('df-df9aa5a6-554f-4f8e-bbf9-3f5010520856')\"\n",
              "              title=\"Convert this dataframe to an interactive table.\"\n",
              "              style=\"display:none;\">\n",
              "        \n",
              "  <svg xmlns=\"http://www.w3.org/2000/svg\" height=\"24px\"viewBox=\"0 0 24 24\"\n",
              "       width=\"24px\">\n",
              "    <path d=\"M0 0h24v24H0V0z\" fill=\"none\"/>\n",
              "    <path d=\"M18.56 5.44l.94 2.06.94-2.06 2.06-.94-2.06-.94-.94-2.06-.94 2.06-2.06.94zm-11 1L8.5 8.5l.94-2.06 2.06-.94-2.06-.94L8.5 2.5l-.94 2.06-2.06.94zm10 10l.94 2.06.94-2.06 2.06-.94-2.06-.94-.94-2.06-.94 2.06-2.06.94z\"/><path d=\"M17.41 7.96l-1.37-1.37c-.4-.4-.92-.59-1.43-.59-.52 0-1.04.2-1.43.59L10.3 9.45l-7.72 7.72c-.78.78-.78 2.05 0 2.83L4 21.41c.39.39.9.59 1.41.59.51 0 1.02-.2 1.41-.59l7.78-7.78 2.81-2.81c.8-.78.8-2.07 0-2.86zM5.41 20L4 18.59l7.72-7.72 1.47 1.35L5.41 20z\"/>\n",
              "  </svg>\n",
              "      </button>\n",
              "      \n",
              "  <style>\n",
              "    .colab-df-container {\n",
              "      display:flex;\n",
              "      flex-wrap:wrap;\n",
              "      gap: 12px;\n",
              "    }\n",
              "\n",
              "    .colab-df-convert {\n",
              "      background-color: #E8F0FE;\n",
              "      border: none;\n",
              "      border-radius: 50%;\n",
              "      cursor: pointer;\n",
              "      display: none;\n",
              "      fill: #1967D2;\n",
              "      height: 32px;\n",
              "      padding: 0 0 0 0;\n",
              "      width: 32px;\n",
              "    }\n",
              "\n",
              "    .colab-df-convert:hover {\n",
              "      background-color: #E2EBFA;\n",
              "      box-shadow: 0px 1px 2px rgba(60, 64, 67, 0.3), 0px 1px 3px 1px rgba(60, 64, 67, 0.15);\n",
              "      fill: #174EA6;\n",
              "    }\n",
              "\n",
              "    [theme=dark] .colab-df-convert {\n",
              "      background-color: #3B4455;\n",
              "      fill: #D2E3FC;\n",
              "    }\n",
              "\n",
              "    [theme=dark] .colab-df-convert:hover {\n",
              "      background-color: #434B5C;\n",
              "      box-shadow: 0px 1px 3px 1px rgba(0, 0, 0, 0.15);\n",
              "      filter: drop-shadow(0px 1px 2px rgba(0, 0, 0, 0.3));\n",
              "      fill: #FFFFFF;\n",
              "    }\n",
              "  </style>\n",
              "\n",
              "      <script>\n",
              "        const buttonEl =\n",
              "          document.querySelector('#df-df9aa5a6-554f-4f8e-bbf9-3f5010520856 button.colab-df-convert');\n",
              "        buttonEl.style.display =\n",
              "          google.colab.kernel.accessAllowed ? 'block' : 'none';\n",
              "\n",
              "        async function convertToInteractive(key) {\n",
              "          const element = document.querySelector('#df-df9aa5a6-554f-4f8e-bbf9-3f5010520856');\n",
              "          const dataTable =\n",
              "            await google.colab.kernel.invokeFunction('convertToInteractive',\n",
              "                                                     [key], {});\n",
              "          if (!dataTable) return;\n",
              "\n",
              "          const docLinkHtml = 'Like what you see? Visit the ' +\n",
              "            '<a target=\"_blank\" href=https://colab.research.google.com/notebooks/data_table.ipynb>data table notebook</a>'\n",
              "            + ' to learn more about interactive tables.';\n",
              "          element.innerHTML = '';\n",
              "          dataTable['output_type'] = 'display_data';\n",
              "          await google.colab.output.renderOutput(dataTable, element);\n",
              "          const docLink = document.createElement('div');\n",
              "          docLink.innerHTML = docLinkHtml;\n",
              "          element.appendChild(docLink);\n",
              "        }\n",
              "      </script>\n",
              "    </div>\n",
              "  </div>\n",
              "  "
            ]
          },
          "metadata": {},
          "execution_count": 241
        }
      ],
      "source": [
        "df.head()"
      ]
    },
    {
      "cell_type": "code",
      "execution_count": 242,
      "metadata": {
        "colab": {
          "base_uri": "https://localhost:8080/"
        },
        "id": "lcVL7jYRpyHz",
        "outputId": "77014d4c-5dc5-499d-fc3f-be0f36f02304"
      },
      "outputs": [
        {
          "output_type": "execute_result",
          "data": {
            "text/plain": [
              "year_of_reference     0\n",
              "month_of_reference    0\n",
              "fipe_code             0\n",
              "authentication        0\n",
              "brand                 0\n",
              "model                 0\n",
              "fuel                  0\n",
              "gear                  0\n",
              "engine_size           0\n",
              "year_model            0\n",
              "avg_price_brl         0\n",
              "age_years             0\n",
              "dtype: int64"
            ]
          },
          "metadata": {},
          "execution_count": 242
        }
      ],
      "source": [
        "df.isna().sum()"
      ]
    },
    {
      "cell_type": "markdown",
      "source": [
        "Null значения отсутствуют"
      ],
      "metadata": {
        "id": "nzPo1Zvgr0zj"
      }
    },
    {
      "cell_type": "code",
      "source": [
        "print(\"Число записей и параметров \", df.shape)"
      ],
      "metadata": {
        "colab": {
          "base_uri": "https://localhost:8080/"
        },
        "id": "uLM5m1OFqzJg",
        "outputId": "bb8206e5-c5f7-48b4-a941-e2f76019b687"
      },
      "execution_count": 243,
      "outputs": [
        {
          "output_type": "stream",
          "name": "stdout",
          "text": [
            "Число записей и параметров  (10000, 12)\n"
          ]
        }
      ]
    },
    {
      "cell_type": "markdown",
      "source": [
        "Имена параметров:\n"
      ],
      "metadata": {
        "id": "BLkrKmCorPa3"
      }
    },
    {
      "cell_type": "code",
      "source": [
        "df.columns"
      ],
      "metadata": {
        "colab": {
          "base_uri": "https://localhost:8080/"
        },
        "id": "HZri0itsq14K",
        "outputId": "d99e8ba0-e89a-4d20-f5ec-6e1f81825d1c"
      },
      "execution_count": 244,
      "outputs": [
        {
          "output_type": "execute_result",
          "data": {
            "text/plain": [
              "Index(['year_of_reference', 'month_of_reference', 'fipe_code',\n",
              "       'authentication', 'brand', 'model', 'fuel', 'gear', 'engine_size',\n",
              "       'year_model', 'avg_price_brl', 'age_years'],\n",
              "      dtype='object')"
            ]
          },
          "metadata": {},
          "execution_count": 244
        }
      ]
    },
    {
      "cell_type": "markdown",
      "source": [
        "Удалим ненужные параметры:"
      ],
      "metadata": {
        "id": "ouIrgl72rSAO"
      }
    },
    {
      "cell_type": "code",
      "source": [
        "df.drop([\"fipe_code\", \"authentication\"], axis=1, inplace=True)\n",
        "df.columns"
      ],
      "metadata": {
        "colab": {
          "base_uri": "https://localhost:8080/"
        },
        "id": "2KH4aevarehc",
        "outputId": "daa07102-3518-459e-d856-8a04d4701521"
      },
      "execution_count": 245,
      "outputs": [
        {
          "output_type": "execute_result",
          "data": {
            "text/plain": [
              "Index(['year_of_reference', 'month_of_reference', 'brand', 'model', 'fuel',\n",
              "       'gear', 'engine_size', 'year_model', 'avg_price_brl', 'age_years'],\n",
              "      dtype='object')"
            ]
          },
          "metadata": {},
          "execution_count": 245
        }
      ]
    },
    {
      "cell_type": "markdown",
      "source": [
        "# 1. EDA"
      ],
      "metadata": {
        "id": "n4X2ws1brgS3"
      }
    },
    {
      "cell_type": "markdown",
      "source": [
        "Изобразим распределение по ключевым числовым признакам:"
      ],
      "metadata": {
        "id": "T1h5-7N1sPS2"
      }
    },
    {
      "cell_type": "code",
      "source": [
        "sns.set(rc={'axes.facecolor':'none','axes.grid':False,'xtick.labelsize':12,'ytick.labelsize':12})\n",
        "fig, axes = plt.subplots(1, 3, figsize=(14,3))\n",
        "year_model = df.year_model.hist(ax=axes[1], color=\"#40E0D0\", grid=False, ).set_title('year of the model')\n",
        "age_years = df.age_years.hist(ax=axes[2], color=\"#40E0D0\", grid=False).set_title('Age in Years')\n",
        "engine_size = df.engine_size.hist(ax=axes[0], color=\"#40E0D0\", grid=False).set_title('engine size')"
      ],
      "metadata": {
        "colab": {
          "base_uri": "https://localhost:8080/",
          "height": 232
        },
        "id": "2UYw0zr7sSNQ",
        "outputId": "872aab07-861d-42c2-8425-0a5e5713968b"
      },
      "execution_count": 246,
      "outputs": [
        {
          "output_type": "display_data",
          "data": {
            "text/plain": [
              "<Figure size 1008x216 with 3 Axes>"
            ],
            "image/png": "[encoded data removed]"
          },
          "metadata": {}
        }
      ]
    },
    {
      "cell_type": "markdown",
      "source": [
        "Наблюдаем, что \"year_model\" и \"age_years\" обратно пропорциональны"
      ],
      "metadata": {
        "id": "rEGEoR_ttZzl"
      }
    },
    {
      "cell_type": "code",
      "source": [
        "plt.figure(figsize=(10,5))\n",
        "corr = df.corr(method='pearson').round(4)\n",
        "sns.heatmap(corr, annot=True, cmap=\"YlGnBu\")\n",
        "plt.title(\"Correlation Heatmap\", fontdict={'fontsize':15})"
      ],
      "metadata": {
        "colab": {
          "base_uri": "https://localhost:8080/",
          "height": 360
        },
        "id": "B99I3wXCtASH",
        "outputId": "e1dfaa8a-0544-47a1-dd43-22234aa4f099"
      },
      "execution_count": 247,
      "outputs": [
        {
          "output_type": "execute_result",
          "data": {
            "text/plain": [
              "Text(0.5, 1.0, 'Correlation Heatmap')"
            ]
          },
          "metadata": {},
          "execution_count": 247
        },
        {
          "output_type": "display_data",
          "data": {
            "text/plain": [
              "<Figure size 720x360 with 2 Axes>"
            ],
            "image/png": "[encoded data removed]"
          },
          "metadata": {}
        }
      ]
    },
    {
      "cell_type": "markdown",
      "source": [
        "как было замечено выше \"year_model\" и \"age_years\" обратно пропорциональны, поэтмому удалим один из этих параметров "
      ],
      "metadata": {
        "id": "bY37MuBBuO8n"
      }
    },
    {
      "cell_type": "code",
      "source": [
        "df.drop('year_model', axis=1, inplace=True)"
      ],
      "metadata": {
        "id": "mncLCiQIvtuF"
      },
      "execution_count": 248,
      "outputs": []
    },
    {
      "cell_type": "code",
      "source": [
        "cat_df = df[['month_of_reference', 'brand', 'model', 'fuel', 'gear']]\n",
        "num_df = df[['engine_size', 'avg_price_brl', 'age_years']]"
      ],
      "metadata": {
        "id": "vgsyne51xo_o"
      },
      "execution_count": 249,
      "outputs": []
    },
    {
      "cell_type": "code",
      "source": [
        "le = LabelEncoder ()\n",
        "\n",
        "#select ctegorical columns \n",
        "cat_df = df.select_dtypes(exclude=[\"int\", \"float\"])\n",
        "\n",
        "for i in cat_df:\n",
        "    cat_df[i] = le.fit_transform(df[i])\n",
        "\n",
        "#joining the data to the numeric data\n",
        "num_df = df.select_dtypes(include=['int', 'float'])\n",
        "main_df = pd.concat([num_df, cat_df], axis=1)"
      ],
      "metadata": {
        "id": "gnxN0T4ixy03"
      },
      "execution_count": 250,
      "outputs": []
    },
    {
      "cell_type": "code",
      "source": [
        "# Segregating the Dependent Variable in Y-axis and Independent Variables in X-axis\n",
        "X = main_df.drop(columns=[\"avg_price_brl\"])\n",
        "Y = main_df[\"avg_price_brl\"]"
      ],
      "metadata": {
        "id": "FKxpK1-vyF8C"
      },
      "execution_count": 251,
      "outputs": []
    },
    {
      "cell_type": "markdown",
      "metadata": {
        "id": "sDQMBDTUpyH5"
      },
      "source": [
        "# Implementation of Bagging and AdaBoost regressors"
      ]
    },
    {
      "cell_type": "code",
      "execution_count": 252,
      "metadata": {
        "id": "6T8eJ8HnpyH6"
      },
      "outputs": [],
      "source": [
        "import sklearn\n",
        "from sklearn.ensemble import BaseEnsemble\n",
        "from sklearn.utils.validation import check_X_y, check_scalar, check_random_state, check_is_fitted, check_array\n",
        "from sklearn.base import BaseEstimator, RegressorMixin, clone\n",
        "from sklearn.tree import DecisionTreeRegressor\n",
        "\n",
        "np.random.seed(42)\n",
        "\n",
        "\n",
        "\n",
        "class CustomBugging(BaseEnsemble):\n",
        "    def __init__(self, estimator=None, n_estimators=10, random_state=None):\n",
        "        self.estimator = estimator\n",
        "        self.n_estimators = n_estimators\n",
        "        self.random_state = random_state\n",
        "\n",
        "    def predict(self, x):\n",
        "        check_is_fitted(self)\n",
        "        x = check_array(x)\n",
        "        predictions = [estimator.predict(x) for estimator in self.estimators_]\n",
        "        aggregated = np.mean(predictions, axis=0)\n",
        "        return aggregated\n",
        "\n",
        "    def fit(self, x, y):\n",
        "        self.n_estimators = check_scalar(self.n_estimators, \"n_estimators\", int, min_val=1)\n",
        "        self.random_state_ = check_random_state(self.random_state)\n",
        "        x, y = check_X_y(x, y)\n",
        "        self.n_features_in_ = x.shape[1]\n",
        "\n",
        "        self.estimator_ = DecisionTreeRegressor()\n",
        "        self.estimators_ = []\n",
        "        for i in range(self.n_estimators):\n",
        "            estimator = clone(self.estimator_)\n",
        "            estimator.set_params(**_set_random_states(self, estimator))\n",
        "            indices = self.random_state_.choice(len(y), size=len(y))\n",
        "            x_sample, y_sample = x[indices], y[indices]\n",
        "            estimator.fit(x_sample, y_sample)\n",
        "            self.estimators_.append(estimator)\n",
        "\n",
        "\n",
        "\n",
        "        return self\n",
        "\n",
        "\n",
        "\n",
        "class CustomAdaBoost(BaseEnsemble):\n",
        "    def __init__(self, estimator=None, n_estimators=50, random_state=None):\n",
        "        self.estimator = estimator\n",
        "        self.n_estimators = n_estimators\n",
        "        self.random_state = random_state\n",
        "\n",
        "    def predict(self, x):\n",
        "        return np.around(sum((self.alphas[i] * self.estimators_[i].predict(x) for i in range(self.n_estimators))))\n",
        "\n",
        "    def fit(self, x, y):\n",
        "        if self.estimator is not None:\n",
        "            self.estimator_ = self.estimator\n",
        "        else:\n",
        "            self.estimator_ = sklearn.tree.DecisionTreeRegressor(max_depth=3)\n",
        "\n",
        "        self.estimators_ = list()\n",
        "        self.alphas = [0 for _ in range(self.n_estimators)]\n",
        "        weight = [1.0 for _ in y]\n",
        "\n",
        "        for i in range(self.n_estimators):\n",
        "            est = sklearn.base.clone(self.estimator_)\n",
        "            est.fit(x, y, weight)\n",
        "            error = 1 - est.score(x, y, weight)\n",
        "            self.alphas[i] = np.log((1 - error) / error)\n",
        "            weight = weight * np.exp(self.alphas[i] * (y != est.predict(x)))\n",
        "            weight = weight / sum(weight) * len(y)\n",
        "            self.estimators_.append(est)\n",
        "\n",
        "        self.alphas /= sum(self.alphas)"
      ]
    },
    {
      "cell_type": "markdown",
      "metadata": {
        "id": "Unq3yj7_pyH6"
      },
      "source": [
        "## Optuna"
      ]
    },
    {
      "cell_type": "code",
      "source": [
        "pip install optuna"
      ],
      "metadata": {
        "colab": {
          "base_uri": "https://localhost:8080/"
        },
        "id": "6b9FK4NrwedA",
        "outputId": "20b59cc7-be85-4dc4-b540-62c5fa5a96c6"
      },
      "execution_count": 253,
      "outputs": [
        {
          "output_type": "stream",
          "name": "stdout",
          "text": [
            "Looking in indexes: https://pypi.org/simple, https://us-python.pkg.dev/colab-wheels/public/simple/\n",
            "Requirement already satisfied: optuna in /usr/local/lib/python3.9/dist-packages (3.1.0)\n",
            "Requirement already satisfied: alembic>=1.5.0 in /usr/local/lib/python3.9/dist-packages (from optuna) (1.10.2)\n",
            "Requirement already satisfied: tqdm in /usr/local/lib/python3.9/dist-packages (from optuna) (4.65.0)\n",
            "Requirement already satisfied: colorlog in /usr/local/lib/python3.9/dist-packages (from optuna) (6.7.0)\n",
            "Requirement already satisfied: packaging>=20.0 in /usr/local/lib/python3.9/dist-packages (from optuna) (23.0)\n",
            "Requirement already satisfied: numpy in /usr/local/lib/python3.9/dist-packages (from optuna) (1.22.4)\n",
            "Requirement already satisfied: PyYAML in /usr/local/lib/python3.9/dist-packages (from optuna) (6.0)\n",
            "Requirement already satisfied: cmaes>=0.9.1 in /usr/local/lib/python3.9/dist-packages (from optuna) (0.9.1)\n",
            "Requirement already satisfied: sqlalchemy>=1.3.0 in /usr/local/lib/python3.9/dist-packages (from optuna) (1.4.47)\n",
            "Requirement already satisfied: Mako in /usr/local/lib/python3.9/dist-packages (from alembic>=1.5.0->optuna) (1.2.4)\n",
            "Requirement already satisfied: typing-extensions>=4 in /usr/local/lib/python3.9/dist-packages (from alembic>=1.5.0->optuna) (4.5.0)\n",
            "Requirement already satisfied: greenlet!=0.4.17 in /usr/local/lib/python3.9/dist-packages (from sqlalchemy>=1.3.0->optuna) (2.0.2)\n",
            "Requirement already satisfied: MarkupSafe>=0.9.2 in /usr/local/lib/python3.9/dist-packages (from Mako->alembic>=1.5.0->optuna) (2.1.2)\n"
          ]
        }
      ]
    },
    {
      "cell_type": "code",
      "execution_count": 254,
      "metadata": {
        "id": "sCTBW083pyH7"
      },
      "outputs": [],
      "source": [
        "import optuna\n",
        "import sklearn\n",
        "\n",
        "def optuna_train(estimator, params):\n",
        "    study = optuna.create_study(sampler=optuna.samplers.BruteForceSampler(seed=42), direction=\"maximize\")\n",
        "    x = X\n",
        "    y = Y\n",
        "\n",
        "    model = optuna.integration.OptunaSearchCV(\n",
        "        estimator,\n",
        "        params,\n",
        "        scoring=\"r2\",\n",
        "        n_jobs=4,\n",
        "        random_state=42,\n",
        "        study=study\n",
        "    )\n",
        "\n",
        "    results = sklearn.model_selection.cross_validate(\n",
        "        estimator=model,\n",
        "        X=x,\n",
        "        y=y,\n",
        "        cv=sklearn.model_selection.KFold(shuffle=True, random_state=42),\n",
        "        scoring=[\"r2\", \"neg_mean_absolute_error\"],\n",
        "        n_jobs=4,\n",
        "        return_estimator=True\n",
        "    )\n",
        "\n",
        "    results = pd.DataFrame(results).rename(\n",
        "        columns={\"estimator\": \"Regressor\",\n",
        "                 \"fit_time\": \"Fit time, s\",\n",
        "                 \"score_time\": \"Score time, s\",\n",
        "                 \"test_r2\": \"R2\"}\n",
        "    )\n",
        "    results[\"Regressor\"] = estimator.__class__.__name__.removesuffix(\"Regressor\")\n",
        "    results[\"MAE\"] = -results[\"test_neg_mean_absolute_error\"]\n",
        "    results.drop(columns=[\"test_neg_mean_absolute_error\"], inplace=True)\n",
        "    path = pathlib.Path(\"optuna_res.csv\")\n",
        "    results.to_csv(path, mode=\"a\", header=not path.exists())"
      ]
    },
    {
      "cell_type": "markdown",
      "metadata": {
        "id": "ZdHLHBtJpyH7"
      },
      "source": [
        "## Bagging results"
      ]
    },
    {
      "cell_type": "code",
      "execution_count": 255,
      "metadata": {
        "colab": {
          "base_uri": "https://localhost:8080/"
        },
        "id": "ouyhj4KSpyH7",
        "outputId": "e01ac25b-4303-44e8-88dc-e8c3d9146f11"
      },
      "outputs": [
        {
          "output_type": "stream",
          "name": "stderr",
          "text": [
            "\u001b[32m[I 2023-03-26 20:15:52,230]\u001b[0m A new study created in memory with name: no-name-3e6ee258-fcb7-4be2-bff3-0e26b0b00569\u001b[0m\n"
          ]
        }
      ],
      "source": [
        "optuna_train(\n",
        "    estimator=CustomBugging(random_state=42),\n",
        "    params={\n",
        "        \"n_estimators\": optuna.distributions.CategoricalDistribution([5, 20, 40])\n",
        "    }\n",
        ");"
      ]
    },
    {
      "cell_type": "code",
      "execution_count": 256,
      "metadata": {
        "colab": {
          "base_uri": "https://localhost:8080/"
        },
        "id": "BEiPlYWepyH7",
        "outputId": "9337e8d7-241e-463c-d7ef-51bcc0c63342"
      },
      "outputs": [
        {
          "output_type": "stream",
          "name": "stderr",
          "text": [
            "\u001b[32m[I 2023-03-26 20:16:40,310]\u001b[0m A new study created in memory with name: no-name-d875e7b1-dfcc-4c75-8b0d-88c47f775b78\u001b[0m\n"
          ]
        }
      ],
      "source": [
        "from sklearn.ensemble import BaggingRegressor\n",
        "\n",
        "optuna_train(\n",
        "    estimator=BaggingRegressor(random_state=42, n_jobs=4),\n",
        "    params={\n",
        "        \"n_estimators\": optuna.distributions.CategoricalDistribution([5, 20, 40])\n",
        "    }\n",
        ")"
      ]
    },
    {
      "cell_type": "code",
      "execution_count": 257,
      "metadata": {
        "colab": {
          "base_uri": "https://localhost:8080/"
        },
        "id": "UXqoQ9MMpyH8",
        "outputId": "13a9b82c-e5ff-4af7-fa64-8167e737f970"
      },
      "outputs": [
        {
          "output_type": "stream",
          "name": "stderr",
          "text": [
            "\u001b[32m[I 2023-03-26 20:17:40,585]\u001b[0m A new study created in memory with name: no-name-fcffefdb-5f9b-4f24-9b83-3761b5ea38c5\u001b[0m\n"
          ]
        }
      ],
      "source": [
        "from sklearn.ensemble import RandomForestRegressor\n",
        "\n",
        "optuna_train(\n",
        "    estimator=RandomForestRegressor(random_state=42, n_jobs=4),\n",
        "    params={\n",
        "        \"n_estimators\": optuna.distributions.CategoricalDistribution([5, 20, 40]),\n",
        "        \"max_features\": optuna.distributions.CategoricalDistribution([2, \"sqrt\", None]),\n",
        "        \"max_leaf_nodes\": optuna.distributions.CategoricalDistribution([10, 100, None]),\n",
        "    }\n",
        ")"
      ]
    },
    {
      "cell_type": "markdown",
      "metadata": {
        "id": "6wiFTBIPpyH9"
      },
      "source": [
        "## Boosting"
      ]
    },
    {
      "cell_type": "code",
      "execution_count": 258,
      "metadata": {
        "colab": {
          "base_uri": "https://localhost:8080/"
        },
        "id": "nKnb50NhpyH9",
        "outputId": "ee78585c-3f1f-4ed0-ff2f-735d7effca88"
      },
      "outputs": [
        {
          "output_type": "stream",
          "name": "stderr",
          "text": [
            "\u001b[32m[I 2023-03-26 20:22:50,288]\u001b[0m A new study created in memory with name: no-name-f7ff19e2-1c13-4e84-922f-6f5c52922f47\u001b[0m\n"
          ]
        }
      ],
      "source": [
        "optuna_train(\n",
        "    estimator=CustomAdaBoost(random_state=42),\n",
        "    params={\n",
        "        \"n_estimators\": optuna.distributions.CategoricalDistribution([5, 20, 40])\n",
        "    }\n",
        ")"
      ]
    },
    {
      "cell_type": "code",
      "execution_count": 259,
      "metadata": {
        "colab": {
          "base_uri": "https://localhost:8080/"
        },
        "id": "AANW84kjpyH9",
        "outputId": "20fbe4d8-6397-4537-92a2-f3da0cc59fc9"
      },
      "outputs": [
        {
          "output_type": "stream",
          "name": "stderr",
          "text": [
            "\u001b[32m[I 2023-03-26 20:23:13,998]\u001b[0m A new study created in memory with name: no-name-28c32962-fd53-49b9-b7c8-ea3f065dedff\u001b[0m\n"
          ]
        }
      ],
      "source": [
        "from sklearn.ensemble import AdaBoostRegressor\n",
        "\n",
        "optuna_train(\n",
        "    estimator= AdaBoostRegressor(random_state=42),\n",
        "    params={\n",
        "        \"n_estimators\": optuna.distributions.CategoricalDistribution([5, 20, 40]),\n",
        "        \"learning_rate\": optuna.distributions.CategoricalDistribution([0.05, 0.1, 0.3])\n",
        "    }\n",
        ")"
      ]
    },
    {
      "cell_type": "code",
      "execution_count": 260,
      "metadata": {
        "colab": {
          "base_uri": "https://localhost:8080/"
        },
        "id": "cw24L6tgpyH-",
        "outputId": "b359eaae-8c99-4946-8a9a-a85cda7dd568"
      },
      "outputs": [
        {
          "output_type": "stream",
          "name": "stderr",
          "text": [
            "\u001b[32m[I 2023-03-26 20:23:43,015]\u001b[0m A new study created in memory with name: no-name-5505bc75-6a69-4881-b9c8-dd5cca32353e\u001b[0m\n"
          ]
        }
      ],
      "source": [
        "from sklearn.ensemble import GradientBoostingRegressor\n",
        "\n",
        "optuna_train(\n",
        "    estimator=GradientBoostingRegressor(random_state=42),\n",
        "    params={\n",
        "        \"n_estimators\": optuna.distributions.CategoricalDistribution([5, 20, 40]),\n",
        "        \"max_leaf_nodes\": optuna.distributions.CategoricalDistribution([10, 100, None]),\n",
        "        \"learning_rate\": optuna.distributions.CategoricalDistribution([0.05, 0.1, 0.3])\n",
        "    }\n",
        ")"
      ]
    },
    {
      "cell_type": "code",
      "execution_count": 261,
      "metadata": {
        "colab": {
          "base_uri": "https://localhost:8080/"
        },
        "id": "o6KrplExpyH-",
        "outputId": "e74b9542-05cb-4362-a2f9-6061b2b471e0"
      },
      "outputs": [
        {
          "output_type": "stream",
          "name": "stderr",
          "text": [
            "\u001b[32m[I 2023-03-26 20:23:58,135]\u001b[0m A new study created in memory with name: no-name-453887eb-4987-406d-b964-27d4af94a75a\u001b[0m\n"
          ]
        }
      ],
      "source": [
        "from sklearn.ensemble import HistGradientBoostingRegressor\n",
        "\n",
        "optuna_train(\n",
        "    estimator=HistGradientBoostingRegressor(random_state=42),\n",
        "    params={\n",
        "        \"learning_rate\": optuna.distributions.CategoricalDistribution([0.05, 0.1, 0.3])\n",
        "    }\n",
        ")"
      ]
    },
    {
      "cell_type": "code",
      "execution_count": 262,
      "metadata": {
        "colab": {
          "base_uri": "https://localhost:8080/"
        },
        "id": "euk37WP7pyH-",
        "outputId": "67560f8c-e3d7-445a-a62c-2bdf12816bde"
      },
      "outputs": [
        {
          "output_type": "stream",
          "name": "stderr",
          "text": [
            "\u001b[32m[I 2023-03-26 20:24:37,005]\u001b[0m A new study created in memory with name: no-name-1cf4d07a-76b3-4b6d-9dac-2bdf893a89a2\u001b[0m\n"
          ]
        }
      ],
      "source": [
        "from xgboost import XGBRegressor\n",
        "\n",
        "optuna_train(\n",
        "    estimator=XGBRegressor(random_state=42, n_jobs=4),\n",
        "    params={\n",
        "        \"n_estimators\": optuna.distributions.CategoricalDistribution([5, 20, 40]),\n",
        "        \"learning_rate\": optuna.distributions.CategoricalDistribution([0.05, 0.1, .03])\n",
        "    }\n",
        ")"
      ]
    },
    {
      "cell_type": "code",
      "execution_count": 263,
      "metadata": {
        "colab": {
          "base_uri": "https://localhost:8080/"
        },
        "id": "utbwy0sspyH_",
        "outputId": "c1742a57-1381-487a-a62a-2a3e1e5cad9d"
      },
      "outputs": [
        {
          "output_type": "stream",
          "name": "stderr",
          "text": [
            "\u001b[32m[I 2023-03-26 20:27:50,703]\u001b[0m A new study created in memory with name: no-name-a7d62bc5-5105-42a8-a2cb-907d632ef1f0\u001b[0m\n"
          ]
        }
      ],
      "source": [
        "from lightgbm import LGBMRegressor\n",
        "\n",
        "optuna_train(\n",
        "    estimator=LGBMRegressor(random_state=42, n_jobs=4),\n",
        "    params={\n",
        "        \"n_estimators\": optuna.distributions.CategoricalDistribution([5, 20, 40]),\n",
        "        \"learning_rate\": optuna.distributions.CategoricalDistribution([0.05, 0.1, .03])\n",
        "    }\n",
        ")"
      ]
    },
    {
      "cell_type": "code",
      "source": [
        "pip install catboost"
      ],
      "metadata": {
        "colab": {
          "base_uri": "https://localhost:8080/"
        },
        "id": "3f20eak05fim",
        "outputId": "92703df6-146c-473e-fcae-a637c32003d2"
      },
      "execution_count": 264,
      "outputs": [
        {
          "output_type": "stream",
          "name": "stdout",
          "text": [
            "Looking in indexes: https://pypi.org/simple, https://us-python.pkg.dev/colab-wheels/public/simple/\n",
            "Requirement already satisfied: catboost in /usr/local/lib/python3.9/dist-packages (1.1.1)\n",
            "Requirement already satisfied: graphviz in /usr/local/lib/python3.9/dist-packages (from catboost) (0.20.1)\n",
            "Requirement already satisfied: scipy in /usr/local/lib/python3.9/dist-packages (from catboost) (1.10.1)\n",
            "Requirement already satisfied: plotly in /usr/local/lib/python3.9/dist-packages (from catboost) (5.13.1)\n",
            "Requirement already satisfied: numpy>=1.16.0 in /usr/local/lib/python3.9/dist-packages (from catboost) (1.22.4)\n",
            "Requirement already satisfied: six in /usr/local/lib/python3.9/dist-packages (from catboost) (1.16.0)\n",
            "Requirement already satisfied: pandas>=0.24.0 in /usr/local/lib/python3.9/dist-packages (from catboost) (1.4.4)\n",
            "Requirement already satisfied: matplotlib in /usr/local/lib/python3.9/dist-packages (from catboost) (3.7.1)\n",
            "Requirement already satisfied: pytz>=2020.1 in /usr/local/lib/python3.9/dist-packages (from pandas>=0.24.0->catboost) (2022.7.1)\n",
            "Requirement already satisfied: python-dateutil>=2.8.1 in /usr/local/lib/python3.9/dist-packages (from pandas>=0.24.0->catboost) (2.8.2)\n",
            "Requirement already satisfied: importlib-resources>=3.2.0 in /usr/local/lib/python3.9/dist-packages (from matplotlib->catboost) (5.12.0)\n",
            "Requirement already satisfied: contourpy>=1.0.1 in /usr/local/lib/python3.9/dist-packages (from matplotlib->catboost) (1.0.7)\n",
            "Requirement already satisfied: pyparsing>=2.3.1 in /usr/local/lib/python3.9/dist-packages (from matplotlib->catboost) (3.0.9)\n",
            "Requirement already satisfied: fonttools>=4.22.0 in /usr/local/lib/python3.9/dist-packages (from matplotlib->catboost) (4.39.2)\n",
            "Requirement already satisfied: pillow>=6.2.0 in /usr/local/lib/python3.9/dist-packages (from matplotlib->catboost) (8.4.0)\n",
            "Requirement already satisfied: cycler>=0.10 in /usr/local/lib/python3.9/dist-packages (from matplotlib->catboost) (0.11.0)\n",
            "Requirement already satisfied: kiwisolver>=1.0.1 in /usr/local/lib/python3.9/dist-packages (from matplotlib->catboost) (1.4.4)\n",
            "Requirement already satisfied: packaging>=20.0 in /usr/local/lib/python3.9/dist-packages (from matplotlib->catboost) (23.0)\n",
            "Requirement already satisfied: tenacity>=6.2.0 in /usr/local/lib/python3.9/dist-packages (from plotly->catboost) (8.2.2)\n",
            "Requirement already satisfied: zipp>=3.1.0 in /usr/local/lib/python3.9/dist-packages (from importlib-resources>=3.2.0->matplotlib->catboost) (3.15.0)\n"
          ]
        }
      ]
    },
    {
      "cell_type": "code",
      "execution_count": 265,
      "metadata": {
        "pycharm": {
          "is_executing": true
        },
        "colab": {
          "base_uri": "https://localhost:8080/"
        },
        "id": "a0KwH-2xpyH_",
        "outputId": "bb9825ac-8b52-415d-8e86-bc705f3772fa"
      },
      "outputs": [
        {
          "output_type": "stream",
          "name": "stderr",
          "text": [
            "\u001b[32m[I 2023-03-26 20:28:21,359]\u001b[0m A new study created in memory with name: no-name-ba83197b-232b-4fca-a89f-85e2336ce6e6\u001b[0m\n"
          ]
        }
      ],
      "source": [
        "from catboost import CatBoostRegressor\n",
        "\n",
        "optuna_train(\n",
        "    estimator=CatBoostRegressor(random_state=42, thread_count=2),\n",
        "    params={\n",
        "        \"n_estimators\": optuna.distributions.CategoricalDistribution([5, 20, 40])\n",
        "    }\n",
        ")"
      ]
    },
    {
      "cell_type": "markdown",
      "metadata": {
        "id": "5Zx2itCVpyH_"
      },
      "source": [
        "# Результаты"
      ]
    },
    {
      "cell_type": "code",
      "execution_count": 266,
      "metadata": {
        "colab": {
          "base_uri": "https://localhost:8080/",
          "height": 257
        },
        "id": "xcX4fN36pyH_",
        "outputId": "9bbde956-de06-4305-a08c-c185a5b21404"
      },
      "outputs": [
        {
          "output_type": "display_data",
          "data": {
            "text/plain": [
              "<Figure size 1080x288 with 4 Axes>"
            ],
            "image/png": "[encoded data removed]"
          },
          "metadata": {}
        }
      ],
      "source": [
        "results = pd.read_csv(pathlib.Path(\"optuna_res.csv\"))\n",
        "fig, axs = plt.subplots(ncols=4, figsize=(15, 4))\n",
        "\n",
        "for y, ax in zip([\"Fit time, s\", \"Score time, s\", \"R2\", \"MAE\"], axs.flatten()):\n",
        "    sns.barplot(results[[\"Regressor\", y]], x=\"Regressor\", y=y, errwidth=1, capsize=0.3, ax=ax)\n",
        "    ax.tick_params(axis=\"x\", rotation=90)\n",
        "    ax.set_xlabel(None)\n",
        "\n",
        "fig.tight_layout()\n",
        "\n",
        "plt.show()"
      ]
    },
    {
      "cell_type": "markdown",
      "source": [
        "Исходя из графиков, заключаем, что лучшая точность предсказаний у Bagging и CustomBagging и худшая у CustomAdaBoost и AdaBoost "
      ],
      "metadata": {
        "id": "3wJpxO7bm84e"
      }
    }
  ],
  "metadata": {
    "kernelspec": {
      "display_name": "Python 3 (ipykernel)",
      "language": "python",
      "name": "python3"
    },
    "language_info": {
      "codemirror_mode": {
        "name": "ipython",
        "version": 3
      },
      "file_extension": ".py",
      "mimetype": "text/x-python",
      "name": "python",
      "nbconvert_exporter": "python",
      "pygments_lexer": "ipython3",
      "version": "3.10.6"
    },
    "colab": {
      "provenance": []
    }
  },
  "nbformat": 4,
  "nbformat_minor": 0
}